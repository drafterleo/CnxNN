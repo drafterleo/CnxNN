{
 "cells": [
  {
   "cell_type": "code",
   "execution_count": 2,
   "metadata": {},
   "outputs": [
    {
     "name": "stdout",
     "output_type": "stream",
     "text": [
      "The autoreload extension is already loaded. To reload it, use:\n",
      "  %reload_ext autoreload\n"
     ]
    }
   ],
   "source": [
    "%load_ext autoreload\n",
    "\n",
    "# Reload all modules imported with %aimport every time before executing the Python code typed\n",
    "%autoreload 1"
   ]
  },
  {
   "cell_type": "code",
   "execution_count": 4,
   "metadata": {
    "collapsed": true
   },
   "outputs": [],
   "source": [
    "%aimport context_nn\n",
    "from unidecode import unidecode"
   ]
  },
  {
   "cell_type": "code",
   "execution_count": 5,
   "metadata": {
    "collapsed": true
   },
   "outputs": [],
   "source": [
    "def transliterate_text(text: str) -> str:\n",
    "    if transliterate:\n",
    "        f_str = unidecode(text)\n",
    "    return \"\".join([ch for ch in f_str.lower() if ch.isalpha()])\n",
    "\n",
    "\n",
    "def transliterate_file(fileName: str) -> str:\n",
    "    f = open(fileName, \"r\", encoding=\"utf-8\")\n",
    "    f_str = f.read()\n",
    "    f.close()\n",
    "    return transliterate_text(f_str)"
   ]
  },
  {
   "cell_type": "code",
   "execution_count": null,
   "metadata": {
    "collapsed": true
   },
   "outputs": [],
   "source": []
  },
  {
   "cell_type": "code",
   "execution_count": 33,
   "metadata": {
    "collapsed": true
   },
   "outputs": [],
   "source": [
    "def letter_to_note(letter):\n",
    "    return ord(letter.lower()) - ord('a')\n",
    "\n",
    "def phrase_transpositions(phrase: list, pos: int, period: int) -> list: \n",
    "    return [[(phrase[note], (i + shift) % period) \n",
    "             for note, i in enumerate(range(pos, pos + len(phrase)))]\n",
    "            for shift in range(period)]\n",
    "\n",
    "def text_to_note_phrases(text: str, phrase_len: int, period: int) -> list:\n",
    "    note_phrases = []\n",
    "    for i in range(0, len(text) - phrase_len):\n",
    "        phrase = [letter_to_note(letter) for letter in text[i:i + phrase_len]]\n",
    "        note_phrases.extend(phrase_transpositions(phrase, pos=i, period=period))\n",
    "    return note_phrases"
   ]
  },
  {
   "cell_type": "code",
   "execution_count": 35,
   "metadata": {},
   "outputs": [
    {
     "name": "stdout",
     "output_type": "stream",
     "text": [
      "136 1310\n"
     ]
    },
    {
     "data": {
      "text/plain": [
       "[[(20, 0), (2, 1), (7, 2), (4, 3), (13, 4)],\n",
       " [(20, 1), (2, 2), (7, 3), (4, 4), (13, 5)],\n",
       " [(20, 2), (2, 3), (7, 4), (4, 5), (13, 6)],\n",
       " [(20, 3), (2, 4), (7, 5), (4, 6), (13, 7)],\n",
       " [(20, 4), (2, 5), (7, 6), (4, 7), (13, 8)],\n",
       " [(20, 5), (2, 6), (7, 7), (4, 8), (13, 9)],\n",
       " [(20, 6), (2, 7), (7, 8), (4, 9), (13, 0)],\n",
       " [(20, 7), (2, 8), (7, 9), (4, 0), (13, 1)],\n",
       " [(20, 8), (2, 9), (7, 0), (4, 1), (13, 2)],\n",
       " [(20, 9), (2, 0), (7, 1), (4, 2), (13, 3)],\n",
       " [(2, 1), (7, 2), (4, 3), (13, 4), (8, 5)],\n",
       " [(2, 2), (7, 3), (4, 4), (13, 5), (8, 6)],\n",
       " [(2, 3), (7, 4), (4, 5), (13, 6), (8, 7)],\n",
       " [(2, 4), (7, 5), (4, 6), (13, 7), (8, 8)],\n",
       " [(2, 5), (7, 6), (4, 7), (13, 8), (8, 9)],\n",
       " [(2, 6), (7, 7), (4, 8), (13, 9), (8, 0)],\n",
       " [(2, 7), (7, 8), (4, 9), (13, 0), (8, 1)],\n",
       " [(2, 8), (7, 9), (4, 0), (13, 1), (8, 2)],\n",
       " [(2, 9), (7, 0), (4, 1), (13, 2), (8, 3)],\n",
       " [(2, 0), (7, 1), (4, 2), (13, 3), (8, 4)]]"
      ]
     },
     "execution_count": 35,
     "metadata": {},
     "output_type": "execute_result"
    }
   ],
   "source": [
    "text = 'ucheniteotkrilicherazlikatasedlzhinamikrobitekoitosekriiatvnaskhorataspodeliatsamoedniisshchimikrobiavsichkiostanalisastrogoindividualni'\n",
    "note_phrases = text_to_note_phrases(text, phrase_len=5, period=10)\n",
    "print(len(text), len(note_phrases))\n",
    "note_phrases[:20]"
   ]
  },
  {
   "cell_type": "code",
   "execution_count": 37,
   "metadata": {},
   "outputs": [
    {
     "data": {
      "text/plain": [
       "[((0, 1), [(20, 0), (2, 1), (7, 2), (4, 3), (13, 4)]),\n",
       " ((0, 1), [(20, 1), (2, 2), (7, 3), (4, 4), (13, 5)]),\n",
       " ((0, 1), [(20, 2), (2, 3), (7, 4), (4, 5), (13, 6)]),\n",
       " ((0, 1), [(20, 3), (2, 4), (7, 5), (4, 6), (13, 7)]),\n",
       " ((0, 1), [(20, 4), (2, 5), (7, 6), (4, 7), (13, 8)]),\n",
       " ((0, 1), [(20, 5), (2, 6), (7, 7), (4, 8), (13, 9)]),\n",
       " ((0, 1), [(20, 6), (2, 7), (7, 8), (4, 9), (13, 0)]),\n",
       " ((0, 1), [(20, 7), (2, 8), (7, 9), (4, 0), (13, 1)]),\n",
       " ((0, 1), [(20, 8), (2, 9), (7, 0), (4, 1), (13, 2)]),\n",
       " ((0, 1), [(20, 9), (2, 0), (7, 1), (4, 2), (13, 3)]),\n",
       " ((0, 1), [(2, 1), (7, 2), (4, 3), (13, 4), (8, 5)]),\n",
       " ((0, 1), [(2, 2), (7, 3), (4, 4), (13, 5), (8, 6)]),\n",
       " ((0, 1), [(2, 3), (7, 4), (4, 5), (13, 6), (8, 7)]),\n",
       " ((0, 1), [(2, 4), (7, 5), (4, 6), (13, 7), (8, 8)]),\n",
       " ((0, 1), [(2, 5), (7, 6), (4, 7), (13, 8), (8, 9)]),\n",
       " ((0, 1), [(2, 6), (7, 7), (4, 8), (13, 9), (8, 0)]),\n",
       " ((0, 1), [(2, 7), (7, 8), (4, 9), (13, 0), (8, 1)]),\n",
       " ((0, 1), [(2, 8), (7, 9), (4, 0), (13, 1), (8, 2)]),\n",
       " ((0, 1), [(2, 9), (7, 0), (4, 1), (13, 2), (8, 3)]),\n",
       " ((0, 1), [(2, 0), (7, 1), (4, 2), (13, 3), (8, 4)])]"
      ]
     },
     "execution_count": 37,
     "metadata": {},
     "output_type": "execute_result"
    }
   ],
   "source": [
    "label = (0, 1)\n",
    "labeled_note_phrases = [(label, note_phrase) for note_phrase in note_phrases]\n",
    "labeled_note_phrases[:20]"
   ]
  }
 ],
 "metadata": {
  "kernelspec": {
   "display_name": "Python 3",
   "language": "python",
   "name": "python3"
  },
  "language_info": {
   "codemirror_mode": {
    "name": "ipython",
    "version": 3
   },
   "file_extension": ".py",
   "mimetype": "text/x-python",
   "name": "python",
   "nbconvert_exporter": "python",
   "pygments_lexer": "ipython3",
   "version": "3.6.1"
  }
 },
 "nbformat": 4,
 "nbformat_minor": 2
}
