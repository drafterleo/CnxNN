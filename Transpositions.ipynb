{
 "cells": [
  {
   "cell_type": "code",
   "execution_count": 59,
   "metadata": {},
   "outputs": [],
   "source": [
    "note_count = 26\n",
    "period = 10\n",
    "phrase_len = 5"
   ]
  },
  {
   "cell_type": "code",
   "execution_count": 58,
   "metadata": {},
   "outputs": [],
   "source": [
    "def letter_to_note(letter):\n",
    "    return ord(letter.lower()) - ord('a')"
   ]
  },
  {
   "cell_type": "code",
   "execution_count": 116,
   "metadata": {},
   "outputs": [
    {
     "name": "stdout",
     "output_type": "stream",
     "text": [
      "[20, 2, 7, 4, 13, 8, 19, 4, 14, 19, 10, 17, 8, 11, 8, 2, 7, 4, 17, 0, 25, 11, 8, 10, 0, 19, 0, 18, 4, 3, 11, 25, 7, 8, 13, 0, 12, 8, 10, 17, 14, 1, 8, 19, 4, 10, 14, 8, 19, 14, 18, 4, 10, 17, 8, 8, 0, 19, 21, 13, 0, 18, 10, 7, 14, 17, 0, 19, 0, 18, 15, 14, 3, 4, 11, 8, 0, 19, 18, 0, 12, 14, 4, 3, 13, 8, 8, 18, 18, 7, 2, 7, 8, 12, 8, 10, 17, 14, 1, 8, 0, 21, 18, 8, 2, 7, 10, 8, 14, 18, 19, 0, 13, 0, 11, 8, 18, 0, 18, 19, 17, 14, 6, 14, 8, 13, 3, 8, 21, 8, 3, 20, 0, 11, 13, 8]\n"
     ]
    }
   ],
   "source": [
    "text = 'ucheniteotkrilicherazlikatasedlzhinamikrobitekoitosekriiatvnaskhorataspodeliatsamoedniisshchimikrobiavsichkiostanalisastrogoindividualni'\n",
    "data = [letter_to_note(letter) for letter in text]\n",
    "print(data)"
   ]
  },
  {
   "cell_type": "code",
   "execution_count": 113,
   "metadata": {
    "collapsed": true
   },
   "outputs": [],
   "source": [
    "# tone shift\n",
    "\n",
    "def phrase_transpositions(phrase: list, pos: int, period: int) -> list: \n",
    "    return [[(phrase[note], (i + shift) % period) \n",
    "             for note, i in enumerate(range(pos, pos + len(phrase)))]\n",
    "            for shift in range(period)]"
   ]
  },
  {
   "cell_type": "code",
   "execution_count": 117,
   "metadata": {},
   "outputs": [
    {
     "name": "stdout",
     "output_type": "stream",
     "text": [
      "[2, 7, 4, 13, 8]\n"
     ]
    },
    {
     "data": {
      "text/plain": [
       "[[(2, 1), (7, 2), (4, 3), (13, 4), (8, 5)],\n",
       " [(2, 2), (7, 3), (4, 4), (13, 5), (8, 6)],\n",
       " [(2, 3), (7, 4), (4, 5), (13, 6), (8, 7)],\n",
       " [(2, 4), (7, 5), (4, 6), (13, 7), (8, 8)],\n",
       " [(2, 5), (7, 6), (4, 7), (13, 8), (8, 9)],\n",
       " [(2, 6), (7, 7), (4, 8), (13, 9), (8, 0)],\n",
       " [(2, 7), (7, 8), (4, 9), (13, 0), (8, 1)],\n",
       " [(2, 8), (7, 9), (4, 0), (13, 1), (8, 2)],\n",
       " [(2, 9), (7, 0), (4, 1), (13, 2), (8, 3)],\n",
       " [(2, 0), (7, 1), (4, 2), (13, 3), (8, 4)]]"
      ]
     },
     "execution_count": 117,
     "metadata": {},
     "output_type": "execute_result"
    }
   ],
   "source": [
    "curr_pos = 1\n",
    "phrase = data[curr_pos:curr_pos + phrase_len]\n",
    "print(phrase)\n",
    "trans_codes = phrase_transpositions(phrase, curr_pos, period)\n",
    "trans_codes"
   ]
  },
  {
   "cell_type": "code",
   "execution_count": 109,
   "metadata": {},
   "outputs": [],
   "source": [
    "# def num_to_bit_indices(num: int) -> tuple:\n",
    "#     bin_str = \"{:08b}\".format(num)\n",
    "#     bin_str = bin_str[::-1] # reverse\n",
    "#     return tuple(i for i, ch in enumerate(bin_str) if ch == '1')\n",
    "\n",
    "def num_to_bit_indices(num: int, shifts=8) -> tuple:\n",
    "    return tuple(bit for bit in range(shifts) if num & (1 << bit))\n"
   ]
  },
  {
   "cell_type": "code",
   "execution_count": 110,
   "metadata": {},
   "outputs": [
    {
     "name": "stdout",
     "output_type": "stream",
     "text": [
      "(0,)\n",
      "(1,)\n",
      "(0, 1)\n",
      "(2,)\n",
      "(0, 2)\n",
      "(1, 2)\n",
      "(0, 1, 2)\n",
      "(3,)\n",
      "(0, 3)\n",
      "(1, 3)\n"
     ]
    }
   ],
   "source": [
    "for i in range(1, 10 + 1):\n",
    "    print(num_to_bit_indices(i))"
   ]
  }
 ],
 "metadata": {
  "kernelspec": {
   "display_name": "Python 3",
   "language": "python",
   "name": "python3"
  },
  "language_info": {
   "codemirror_mode": {
    "name": "ipython",
    "version": 3
   },
   "file_extension": ".py",
   "mimetype": "text/x-python",
   "name": "python",
   "nbconvert_exporter": "python",
   "pygments_lexer": "ipython3",
   "version": "3.6.1"
  }
 },
 "nbformat": 4,
 "nbformat_minor": 2
}
