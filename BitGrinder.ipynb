{
 "cells": [
  {
   "cell_type": "code",
   "execution_count": 1,
   "metadata": {
    "collapsed": true
   },
   "outputs": [],
   "source": [
    "import numpy as np"
   ]
  },
  {
   "cell_type": "code",
   "execution_count": 164,
   "metadata": {
    "collapsed": true
   },
   "outputs": [],
   "source": [
    "n_input_bits = 255\n",
    "n_output_bits = 8\n",
    "n_point_bits = 32\n",
    "n_points = 1000\n",
    "n_cluster_create_bits = 6\n",
    "n_cluster_activate_bits = 4"
   ]
  },
  {
   "cell_type": "code",
   "execution_count": 165,
   "metadata": {
    "collapsed": true
   },
   "outputs": [],
   "source": [
    "def gen_input_output(count=1000, n_in_active_bits=40, n_out_active_bits=4) -> (np.array, np.array):\n",
    "    inp = np.zeros(shape=(count, n_input_bits), dtype=np.int8)\n",
    "    out = np.zeros(shape=(count, n_output_bits), dtype=np.int8)\n",
    "    for i in range(count):\n",
    "        in_bits = np.random.choice(n_input_bits, n_in_active_bits, replace=False)\n",
    "        out_bits = np.random.choice(n_output_bits, n_out_active_bits, replace=False)\n",
    "        inp[i][in_bits] = 1\n",
    "        out[i][out_bits] = 1\n",
    "    return inp, out\n",
    "\n",
    "def gen_points() -> (np.array, np.array):\n",
    "    point_ins = np.zeros(shape=(n_points, n_point_bits), dtype=np.int32)\n",
    "    point_outs = np.zeros(n_points, dtype=np.int32)\n",
    "    for i in range(n_points):\n",
    "        point_ins[i] = np.random.choice(n_input_bits, n_point_bits, replace=False)\n",
    "        point_outs[i] = np.random.choice(n_output_bits, 1)\n",
    "    return point_ins, point_outs   \n",
    "                "
   ]
  },
  {
   "cell_type": "code",
   "execution_count": 198,
   "metadata": {},
   "outputs": [],
   "source": [
    "in_data, out_data = gen_input_output(count=1000, n_in_active_bits=50)\n",
    "\n",
    "# print(in_data)\n",
    "# print(out_data)\n",
    "\n",
    "point_in_bits, point_out_bits = gen_points()\n",
    "\n",
    "# print(point_in_bits)\n",
    "# print(point_out_bits)\n",
    "\n",
    "point_clusters = [np.empty(shape=(0, n_point_bits), dtype=np.int8) for _ in range(n_points)]\n",
    "cluster_stats = [[] for _ in range(n_points)]"
   ]
  },
  {
   "cell_type": "code",
   "execution_count": 75,
   "metadata": {},
   "outputs": [
    {
     "data": {
      "text/plain": [
       "618"
      ]
     },
     "execution_count": 75,
     "metadata": {},
     "output_type": "execute_result"
    }
   ],
   "source": [
    "# filter active points for input bit vector\n",
    "point_masks = in_data[0][point_in_bits]\n",
    "len(np.where(np.sum(point_masks, axis=1) > n_cluster_activate_bits)[0])"
   ]
  },
  {
   "cell_type": "code",
   "execution_count": 188,
   "metadata": {},
   "outputs": [
    {
     "name": "stdout",
     "output_type": "stream",
     "text": [
      "[[1 1 1 ..., 0 1 0]\n",
      " [0 0 0 ..., 0 0 0]\n",
      " [1 0 0 ..., 0 0 0]\n",
      " ..., \n",
      " [0 0 0 ..., 1 0 0]\n",
      " [0 0 0 ..., 0 0 0]\n",
      " [1 0 1 ..., 1 0 0]]\n",
      "[0 0 0 0 0 0 0 0 0 1 0 0 0 1 0 0 1 0 0 0 0 1 0 0 0 0 0 1 0 0 0 1 0 0 0 0 0\n",
      " 0 0 0 0 0 0 0 0 0 0 0 0 1 0 0 0 0 0 0 0 0 0 0 0 1 0 1 0 1 0 1 0 0 1 0 1 0\n",
      " 0 0 1 0 0 0 0 0 0 0 0 0 0 1 0 0 0 0 0 1 0 0 0 0 0 0 1 0 0 0 0 0 0 0 0 0 0\n",
      " 0 0 1 0 0 0 0 0 0 1 1 0 1 0 0 0 0 1 0 0 1 0 0 0 0 0 0 0 0 0 1 0 0 1 0 1 1\n",
      " 0 0 0 1 0 0 0 0 1 0 0 0 1 1 0 0 1 0 1 0 0 0 0 0 0 0 0 0 1 0 0 0 1 0 0 0 1\n",
      " 0 1 0 0 1 0 0 0 1 0 0 0 0 0 1 0 1 1 0 0 0 1 0 0 0 0 0 0 0 0 0 0 1 0 0 0 1\n",
      " 0 1 0 0 0 0 0 0 0 0 0 0 0 0 1 0 0 1 0 0 0 0 0 1 0 0 0 0 0 0 0 0 1]\n",
      "[128 236 151 118 114  83  53 146 248 122  50   9 107   6 194  44 111 252\n",
      "  27 190 153 228 169 183 131 103  78  21  95 139 160 225]\n",
      "(array([  9,  13,  16,  21,  27,  31,  49,  61,  63,  65,  67,  70,  72,\n",
      "        76,  87,  93, 100, 113, 120, 121, 123, 128, 131, 141, 144, 146,\n",
      "       147, 151, 156, 160, 161, 164, 166, 176, 180, 184, 186, 189, 193,\n",
      "       199, 201, 202, 206, 217, 221, 223, 236, 239, 245, 254], dtype=int64),)\n",
      "{128, 160, 131, 9, 236, 146, 21, 151, 27}\n",
      "[1 1 1 0 0 0 0 1 0 0 0 1 0 0 0 0 0 0 1 0 0 0 0 0 1 0 0 1 0 0 1 0]\n"
     ]
    }
   ],
   "source": [
    "# test visualisation\n",
    "\n",
    "print(in_data[0][point_in_bits])\n",
    "print(in_data[0])\n",
    "print(point_in_bits[0])\n",
    "print(np.where(in_data[0] > 0))\n",
    "print(set(point_in_bits[0]) & set(np.where(in_data[0] > 0)[0]))\n",
    "print(in_data[0][point_in_bits][0])"
   ]
  },
  {
   "cell_type": "code",
   "execution_count": 195,
   "metadata": {},
   "outputs": [],
   "source": [
    "from numba import njit\n",
    "\n",
    "def clear_clusters():\n",
    "    global point_clusters, cluster_stats\n",
    "    point_clusters = [np.empty(shape=(0, n_point_bits), dtype=np.int8) for _ in range(n_points)]\n",
    "    cluster_stats = [[] for _ in range(n_points)] # [[{} {} ...] ...]\n",
    "\n",
    "def cluster_count():\n",
    "    global point_clusters\n",
    "    return sum(len(clusters) for clusters in point_clusters)\n",
    "\n",
    "def append_cluster(point_idx: int, mask: np.array):\n",
    "    global point_clusters\n",
    "    clusters = point_clusters[point_idx]\n",
    "    isects = np.count_nonzero(clusters & mask, axis=1) # bit-intersection counts\n",
    "    if len(isects) == 0 or np.max(isects) < np.count_nonzero(mask):\n",
    "#         print('append ', mask)\n",
    "        point_clusters[point_idx] = np.vstack((clusters, mask))\n",
    "    \n",
    "def update_clusters(point_idx: int, mask: np.array, active_bits: int):\n",
    "    pass\n",
    "    \n",
    "def process_input(input_bits: np.array):\n",
    "    # filter active points \n",
    "    point_masks = input_bits[point_in_bits]\n",
    "    point_sums = np.sum(point_masks, axis=1)\n",
    "    for point_idx in range(n_points):\n",
    "        if point_sums[point_idx] >= n_cluster_create_bits:\n",
    "            append_cluster(point_idx, point_masks[point_idx])\n",
    "        update_clusters(point_idx, point_masks[point_idx])\n",
    "    \n"
   ]
  },
  {
   "cell_type": "code",
   "execution_count": 199,
   "metadata": {},
   "outputs": [
    {
     "name": "stdout",
     "output_type": "stream",
     "text": [
      "Wall time: 1min 3s\n"
     ]
    }
   ],
   "source": [
    "%%time\n",
    "\n",
    "# feed data\n",
    "clear_clusters()\n",
    "\n",
    "for bit_vector in in_data:\n",
    "    process_input(bit_vector)"
   ]
  },
  {
   "cell_type": "code",
   "execution_count": 200,
   "metadata": {},
   "outputs": [
    {
     "data": {
      "text/plain": [
       "626701"
      ]
     },
     "execution_count": 200,
     "metadata": {},
     "output_type": "execute_result"
    }
   ],
   "source": [
    "cluster_count()"
   ]
  }
 ],
 "metadata": {
  "kernelspec": {
   "display_name": "Python 3",
   "language": "python",
   "name": "python3"
  },
  "language_info": {
   "codemirror_mode": {
    "name": "ipython",
    "version": 3
   },
   "file_extension": ".py",
   "mimetype": "text/x-python",
   "name": "python",
   "nbconvert_exporter": "python",
   "pygments_lexer": "ipython3",
   "version": "3.6.1"
  }
 },
 "nbformat": 4,
 "nbformat_minor": 2
}
