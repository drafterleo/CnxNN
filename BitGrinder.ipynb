{
 "cells": [
  {
   "cell_type": "code",
   "execution_count": 2,
   "metadata": {
    "collapsed": true
   },
   "outputs": [],
   "source": [
    "import numpy as np"
   ]
  },
  {
   "cell_type": "code",
   "execution_count": 1,
   "metadata": {
    "collapsed": true
   },
   "outputs": [],
   "source": [
    "n_input_bits = 255\n",
    "n_output_bits = 8\n",
    "n_point_bits = 32\n",
    "n_points = 1000\n",
    "n_cluster_create_bits = 6\n",
    "n_cluster_activate_bits = 4"
   ]
  },
  {
   "cell_type": "code",
   "execution_count": 3,
   "metadata": {
    "collapsed": true
   },
   "outputs": [],
   "source": [
    "def gen_input_output(count=1000, n_in_active_bits=40, n_out_active_bits=4) -> (np.array, np.array):\n",
    "    inp = np.zeros(shape=(count, n_input_bits), dtype=np.int8)\n",
    "    out = np.zeros(shape=(count, n_output_bits), dtype=np.int8)\n",
    "    for i in range(count):\n",
    "        in_bits = np.random.choice(n_input_bits, n_in_active_bits, replace=False)\n",
    "        out_bits = np.random.choice(n_output_bits, n_out_active_bits, replace=False)\n",
    "        inp[i][in_bits] = 1\n",
    "        out[i][out_bits] = 1\n",
    "    return inp, out\n",
    "\n",
    "def gen_points() -> (np.array, np.array):\n",
    "    point_ins = np.zeros(shape=(n_points, n_point_bits), dtype=np.int32)\n",
    "    point_outs = np.zeros(n_points, dtype=np.int32)\n",
    "    for i in range(n_points):\n",
    "        point_ins[i] = np.random.choice(n_input_bits, n_point_bits, replace=False)\n",
    "        point_outs[i] = np.random.choice(n_output_bits, 1)\n",
    "    return point_ins, point_outs   \n",
    "                "
   ]
  },
  {
   "cell_type": "code",
   "execution_count": 10,
   "metadata": {
    "collapsed": true
   },
   "outputs": [],
   "source": [
    "in_data, out_data = gen_input_output(count=1000, n_in_active_bits=50)\n",
    "\n",
    "# print(in_data)\n",
    "# print(out_data)\n",
    "\n",
    "point_in_bits, point_out_bits = gen_points()\n",
    "\n",
    "# print(point_in_bits)\n",
    "# print(point_out_bits)\n",
    "\n",
    "point_clusters = [np.empty(shape=(0, n_point_bits), dtype=np.int8) for _ in range(n_points)]\n",
    "cluster_stats = [[] for _ in range(n_points)]"
   ]
  },
  {
   "cell_type": "code",
   "execution_count": 75,
   "metadata": {},
   "outputs": [
    {
     "data": {
      "text/plain": [
       "618"
      ]
     },
     "execution_count": 75,
     "metadata": {},
     "output_type": "execute_result"
    }
   ],
   "source": [
    "# filter active points for input bit vector\n",
    "point_masks = in_data[0][point_in_bits]\n",
    "len(np.where(np.sum(point_masks, axis=1) > n_cluster_activate_bits)[0])"
   ]
  },
  {
   "cell_type": "code",
   "execution_count": 11,
   "metadata": {},
   "outputs": [
    {
     "name": "stdout",
     "output_type": "stream",
     "text": [
      "[[0 0 0 ..., 1 0 0]\n",
      " [0 0 0 ..., 1 1 0]\n",
      " [0 0 0 ..., 0 0 0]\n",
      " ..., \n",
      " [1 0 0 ..., 0 0 0]\n",
      " [0 1 0 ..., 0 1 0]\n",
      " [1 0 1 ..., 0 0 0]]\n",
      "[0 1 0 0 0 0 0 1 0 1 0 0 0 0 0 1 1 1 0 0 0 0 0 0 0 0 0 0 0 0 0 0 1 0 0 0 0\n",
      " 0 0 0 0 0 0 0 1 1 0 1 0 0 0 0 0 0 0 0 0 0 0 0 0 0 1 0 0 0 0 0 0 0 0 0 0 0\n",
      " 1 0 1 1 0 0 1 0 0 0 0 0 0 0 1 0 0 1 0 0 0 0 0 0 0 1 0 0 0 0 0 0 1 0 0 0 1\n",
      " 0 0 1 0 1 0 0 1 0 0 0 0 0 1 0 0 0 1 0 0 1 0 0 0 1 0 0 0 0 0 1 0 0 0 1 0 1\n",
      " 0 0 0 0 0 0 1 0 0 0 0 0 0 0 0 0 0 0 0 0 0 1 0 0 0 0 0 1 0 0 1 0 0 0 0 1 0\n",
      " 1 0 0 0 0 0 0 0 0 0 1 0 0 0 1 1 0 0 0 1 0 1 0 0 0 0 0 1 1 0 0 0 0 0 0 1 0\n",
      " 0 0 0 1 0 0 0 1 0 0 0 0 0 0 0 0 1 0 0 0 0 0 0 1 0 0 0 1 1 0 0 0 0]\n",
      "[122   4  56   2 247 103 113 123   3  77 241 208  29 200 224 121  64 198\n",
      " 205 118  65  94  87  51  27 144 249 156 187 225 116 244]\n",
      "(array([  1,   7,   9,  15,  16,  17,  32,  44,  45,  47,  62,  74,  76,\n",
      "        77,  80,  88,  91,  99, 106, 110, 113, 115, 118, 124, 128, 131,\n",
      "       135, 141, 145, 147, 154, 169, 175, 178, 183, 185, 195, 199, 200,\n",
      "       204, 206, 212, 213, 220, 225, 229, 238, 245, 249, 250], dtype=int64),)\n",
      "{225, 200, 77, 113, 118, 249}\n",
      "[0 0 0 0 0 0 1 0 0 1 0 0 0 1 0 0 0 0 0 1 0 0 0 0 0 0 1 0 0 1 0 0]\n"
     ]
    }
   ],
   "source": [
    "# test visualisation\n",
    "\n",
    "print(in_data[0][point_in_bits])\n",
    "print(in_data[0])\n",
    "print(point_in_bits[0])\n",
    "print(np.where(in_data[0] > 0))\n",
    "print(set(point_in_bits[0]) & set(np.where(in_data[0] > 0)[0]))\n",
    "print(in_data[0][point_in_bits][0])"
   ]
  },
  {
   "cell_type": "code",
   "execution_count": 12,
   "metadata": {
    "collapsed": true
   },
   "outputs": [],
   "source": [
    "from numba import njit\n",
    "\n",
    "def clear_clusters():\n",
    "    global point_clusters, cluster_stats\n",
    "    point_clusters = [np.empty(shape=(0, n_point_bits), dtype=np.int8) for _ in range(n_points)]\n",
    "    cluster_stats = [[] for _ in range(n_points)] # [[{} {} ...] ...]\n",
    "\n",
    "def cluster_count():\n",
    "    global point_clusters\n",
    "    return sum(len(clusters) for clusters in point_clusters)\n",
    "\n",
    "def append_cluster(point_idx: int, mask: np.array):\n",
    "    global point_clusters\n",
    "    clusters = point_clusters[point_idx]\n",
    "    isects = np.count_nonzero(clusters & mask, axis=1) # bit-intersection counts\n",
    "    if len(isects) == 0 or np.max(isects) < np.count_nonzero(mask):\n",
    "#         print('append ', mask)\n",
    "        point_clusters[point_idx] = np.vstack((clusters, mask))\n",
    "    \n",
    "def update_clusters(point_idx: int, mask: np.array):\n",
    "    pass\n",
    "    \n",
    "def process_input(input_bits: np.array):\n",
    "    # filter active points \n",
    "    point_masks = input_bits[point_in_bits]\n",
    "    point_sums = np.sum(point_masks, axis=1)\n",
    "    for point_idx in range(n_points):\n",
    "        if point_sums[point_idx] >= n_cluster_create_bits:\n",
    "            append_cluster(point_idx, point_masks[point_idx])\n",
    "        update_clusters(point_idx, point_masks[point_idx])\n",
    "    \n"
   ]
  },
  {
   "cell_type": "code",
   "execution_count": 13,
   "metadata": {},
   "outputs": [
    {
     "name": "stdout",
     "output_type": "stream",
     "text": [
      "Wall time: 33.6 s\n"
     ]
    }
   ],
   "source": [
    "%%time\n",
    "\n",
    "# feed data\n",
    "clear_clusters()\n",
    "\n",
    "for bit_vector in in_data:\n",
    "    process_input(bit_vector)"
   ]
  },
  {
   "cell_type": "code",
   "execution_count": 9,
   "metadata": {},
   "outputs": [
    {
     "data": {
      "text/plain": [
       "4945344"
      ]
     },
     "execution_count": 9,
     "metadata": {},
     "output_type": "execute_result"
    }
   ],
   "source": [
    "cluster_count()"
   ]
  }
 ],
 "metadata": {
  "kernelspec": {
   "display_name": "Python 3",
   "language": "python",
   "name": "python3"
  },
  "language_info": {
   "codemirror_mode": {
    "name": "ipython",
    "version": 3
   },
   "file_extension": ".py",
   "mimetype": "text/x-python",
   "name": "python",
   "nbconvert_exporter": "python",
   "pygments_lexer": "ipython3",
   "version": "3.6.1"
  }
 },
 "nbformat": 4,
 "nbformat_minor": 2
}
