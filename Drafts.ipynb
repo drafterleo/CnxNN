{
 "cells": [
  {
   "cell_type": "markdown",
   "metadata": {},
   "source": [
    "## Set intersecton performance"
   ]
  },
  {
   "cell_type": "code",
   "execution_count": 86,
   "metadata": {
    "collapsed": true
   },
   "outputs": [],
   "source": [
    "import numpy as np\n",
    "\n",
    "def gen_random_set(set_len, choice_len=10000):\n",
    "    return set(np.random.choice(choice_len, set_len, replace=False))\n",
    "    \n",
    "\n",
    "def gen_sets(set_count: set, set_len=100, choice_len=10000) -> list:\n",
    "    return [gen_random_set(set_len, choice_len) \n",
    "            for _ in range(set_count)]\n"
   ]
  },
  {
   "cell_type": "code",
   "execution_count": 8,
   "metadata": {},
   "outputs": [
    {
     "data": {
      "text/plain": [
       "[{227, 836, 2534, 3080, 4245, 5120, 6351, 7501, 7907, 8185},\n",
       " {2465, 2706, 3831, 4123, 4573, 4924, 5462, 5702, 5851, 6507},\n",
       " {1716, 1781, 1888, 2540, 4078, 4205, 4572, 5035, 7354, 9465},\n",
       " {56, 956, 2042, 2699, 3597, 3841, 4990, 6283, 6897, 7677},\n",
       " {1639, 2118, 4285, 4311, 4886, 5012, 5177, 6857, 7297, 8880}]"
      ]
     },
     "execution_count": 8,
     "metadata": {},
     "output_type": "execute_result"
    }
   ],
   "source": [
    "gen_sets(5, set_len=10)"
   ]
  },
  {
   "cell_type": "code",
   "execution_count": 65,
   "metadata": {
    "collapsed": true
   },
   "outputs": [],
   "source": [
    "sets = gen_sets(100000, set_len=100, choice_len=500)\n",
    "test_set = gen_random_set(100, choice_len=500)"
   ]
  },
  {
   "cell_type": "code",
   "execution_count": 66,
   "metadata": {
    "collapsed": true
   },
   "outputs": [],
   "source": [
    "def process_sets(sets: list):\n",
    "    intersections = []\n",
    "    for s in sets:\n",
    "        intersection = s & test_set\n",
    "        if len(intersection) > 20:\n",
    "            intersections.append(intersection)    "
   ]
  },
  {
   "cell_type": "code",
   "execution_count": 80,
   "metadata": {},
   "outputs": [
    {
     "name": "stdout",
     "output_type": "stream",
     "text": [
      "Wall time: 1.02 s\n"
     ]
    }
   ],
   "source": [
    "%time process_sets(sets)"
   ]
  },
  {
   "cell_type": "markdown",
   "metadata": {},
   "source": [
    "### With numpy matrices"
   ]
  },
  {
   "cell_type": "code",
   "execution_count": 60,
   "metadata": {},
   "outputs": [
    {
     "data": {
      "text/plain": [
       "array([[218, 352, 207, ..., 150,   6,  61],\n",
       "       [227, 326, 348, ...,  57, 448, 198],\n",
       "       [127, 475, 439, ..., 161, 207,  89],\n",
       "       ..., \n",
       "       [122,  32,  99, ..., 104, 489, 326],\n",
       "       [231,  48, 337, ..., 474, 268, 271],\n",
       "       [ 55, 252, 350, ..., 439, 322, 354]])"
      ]
     },
     "execution_count": 60,
     "metadata": {},
     "output_type": "execute_result"
    }
   ],
   "source": [
    "cols = 100\n",
    "rows = 100000\n",
    "arr = np.random.choice(cols * 5, cols * rows).reshape(rows, cols)\n",
    "tst = np.random.choice(cols * 5, cols)\n",
    "arr"
   ]
  },
  {
   "cell_type": "code",
   "execution_count": 85,
   "metadata": {},
   "outputs": [
    {
     "name": "stdout",
     "output_type": "stream",
     "text": [
      "Wall time: 1.68 s\n"
     ]
    }
   ],
   "source": [
    "%%time\n",
    "\n",
    "tf = np.isin(arr, tst)\n",
    "intersections = np.count_nonzero(tf, axis=1)\n",
    "active_sets = []\n",
    "for i, ins_count in enumerate(intersections):\n",
    "    if ins_count > 20:\n",
    "        active_sets.append(set(arr[i]))"
   ]
  },
  {
   "cell_type": "code",
   "execution_count": 57,
   "metadata": {},
   "outputs": [
    {
     "data": {
      "text/plain": [
       "278"
      ]
     },
     "execution_count": 57,
     "metadata": {},
     "output_type": "execute_result"
    }
   ],
   "source": [
    "len(active_sets)"
   ]
  },
  {
   "cell_type": "markdown",
   "metadata": {
    "collapsed": true
   },
   "source": [
    "## Enums performance"
   ]
  },
  {
   "cell_type": "code",
   "execution_count": 3,
   "metadata": {
    "collapsed": true
   },
   "outputs": [],
   "source": [
    "from enum import Enum\n",
    "\n",
    "COLOR_RED = 1\n",
    "COLOR_GREEN = 2\n",
    "COLOR_BLUE = 3\n",
    "\n",
    "class Color(Enum):\n",
    "    red = 1\n",
    "    green = 2\n",
    "    blue = 3"
   ]
  },
  {
   "cell_type": "code",
   "execution_count": 17,
   "metadata": {},
   "outputs": [
    {
     "name": "stdout",
     "output_type": "stream",
     "text": [
      "The slowest run took 25.82 times longer than the fastest. This could mean that an intermediate result is being cached.\n",
      "1000000 loops, best of 3: 351 ns per loop\n"
     ]
    }
   ],
   "source": [
    "%%timeit\n",
    "color1 = Color.red\n",
    "color2 = Color.green\n",
    "color3 = Color.blue"
   ]
  },
  {
   "cell_type": "code",
   "execution_count": 16,
   "metadata": {},
   "outputs": [
    {
     "name": "stdout",
     "output_type": "stream",
     "text": [
      "The slowest run took 36.00 times longer than the fastest. This could mean that an intermediate result is being cached.\n",
      "10000000 loops, best of 3: 48.8 ns per loop\n"
     ]
    }
   ],
   "source": [
    "%%timeit\n",
    "color1 = COLOR_RED\n",
    "color2 = COLOR_GREEN\n",
    "color3 = COLOR_BLUE"
   ]
  },
  {
   "cell_type": "markdown",
   "metadata": {},
   "source": [
    "## Iterators"
   ]
  },
  {
   "cell_type": "code",
   "execution_count": 4,
   "metadata": {
    "collapsed": true
   },
   "outputs": [],
   "source": [
    "def generator(count: int=10):\n",
    "    for i in range(count):\n",
    "        yield i"
   ]
  },
  {
   "cell_type": "code",
   "execution_count": 5,
   "metadata": {},
   "outputs": [
    {
     "data": {
      "text/plain": [
       "[0, 1, 2, 3, 4, 5, 6, 7, 8, 9]"
      ]
     },
     "execution_count": 5,
     "metadata": {},
     "output_type": "execute_result"
    }
   ],
   "source": [
    "list(generator())"
   ]
  },
  {
   "cell_type": "code",
   "execution_count": 8,
   "metadata": {
    "collapsed": true
   },
   "outputs": [],
   "source": [
    "def letter_to_note(letter):\n",
    "    return ord(letter.lower()) - ord('a')\n",
    "\n",
    "# generator\n",
    "def take_phrase_generator(text: str, phrase_len) -> list:\n",
    "    for i in range(0, len(text) - phrase_len):\n",
    "        yield [letter_to_note(letter) \n",
    "               for letter in text[i:i + phrase_len]]"
   ]
  },
  {
   "cell_type": "code",
   "execution_count": 9,
   "metadata": {},
   "outputs": [
    {
     "name": "stdout",
     "output_type": "stream",
     "text": [
      "[20, 2, 7, 4, 13]\n",
      "[2, 7, 4, 13, 8]\n",
      "[7, 4, 13, 8, 19]\n",
      "[4, 13, 8, 19, 4]\n",
      "[13, 8, 19, 4, 14]\n",
      "[8, 19, 4, 14, 19]\n",
      "[19, 4, 14, 19, 10]\n",
      "[4, 14, 19, 10, 17]\n",
      "[14, 19, 10, 17, 8]\n",
      "[19, 10, 17, 8, 11]\n"
     ]
    }
   ],
   "source": [
    "text = 'ucheniteotkrilicherazlikatasedlzhinamikrobitekoitosekriiatvnaskhorataspodeliatsamoedniisshchimikrobiavsichkiostanalisastrogoindividualni'\n",
    "take_phrase = take_phrase_generator(text, 5)\n",
    "for i in range(10):\n",
    "    print(next(take_phrase))"
   ]
  }
 ],
 "metadata": {
  "kernelspec": {
   "display_name": "Python 3",
   "language": "python",
   "name": "python3"
  },
  "language_info": {
   "codemirror_mode": {
    "name": "ipython",
    "version": 3
   },
   "file_extension": ".py",
   "mimetype": "text/x-python",
   "name": "python",
   "nbconvert_exporter": "python",
   "pygments_lexer": "ipython3",
   "version": "3.6.1"
  }
 },
 "nbformat": 4,
 "nbformat_minor": 2
}
