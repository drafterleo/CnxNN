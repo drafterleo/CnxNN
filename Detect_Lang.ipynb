{
 "cells": [
  {
   "cell_type": "code",
   "execution_count": 1,
   "metadata": {
    "collapsed": true
   },
   "outputs": [],
   "source": [
    "%load_ext autoreload\n",
    "# %reload_ext autoreload\n",
    "\n",
    "# Reload all modules imported with %aimport every time before executing the Python code typed\n",
    "%autoreload 1\n",
    "\n",
    "%aimport context_nn \n",
    "%aimport phrase_feeder \n",
    "%aimport bitnotes\n",
    "%aimport watch_point\n",
    "%aimport cluster\n",
    "%aimport constants\n",
    "import numpy as np\n",
    "from bitarray import bitarray\n",
    "from context_nn import ContextNN\n",
    "from watch_point import WatchPoint\n",
    "from cluster import Cluster\n",
    "from phrase_feeder import PhraseFeeder\n",
    "from bitnotes import BitNotes\n",
    "from pprint import pprint\n",
    "import math\n",
    "import constants as const"
   ]
  },
  {
   "cell_type": "code",
   "execution_count": 2,
   "metadata": {
    "collapsed": true
   },
   "outputs": [],
   "source": [
    "import pickle\n",
    "\n",
    "def load_cxnn(file_name: str) -> ContextNN:\n",
    "    with open(file_name, 'rb') as f:\n",
    "        cxnn = pickle.load(f)\n",
    "        return cxnn\n",
    "    \n",
    "def load_noted_phrases(file_name: str) -> list:\n",
    "    with open(file_name, 'rb') as f:\n",
    "        noted_phrases = pickle.load(f)\n",
    "        return noted_phrases"
   ]
  },
  {
   "cell_type": "code",
   "execution_count": 87,
   "metadata": {
    "collapsed": true
   },
   "outputs": [],
   "source": [
    "cxnn = load_cxnn('./data/cxnn_langs.pickle')\n",
    "noted_phrases = load_noted_phrases('./data/texts/tst_blg.pickle')"
   ]
  },
  {
   "cell_type": "code",
   "execution_count": null,
   "metadata": {
    "collapsed": true
   },
   "outputs": [],
   "source": [
    "# cxnn = load_cxnn('./data/cxnn_monotone.pickle')\n",
    "# noted_phrases = load_noted_phrases('./data/texts/tst_bbb.pickle')"
   ]
  },
  {
   "cell_type": "code",
   "execution_count": 88,
   "metadata": {},
   "outputs": [
    {
     "name": "stdout",
     "output_type": "stream",
     "text": [
      "phrase # 0/4115\n",
      "phrase # 500/4115\n",
      "phrase # 1000/4115\n",
      "phrase # 1500/4115\n",
      "phrase # 2000/4115\n",
      "Wall time: 23min 19s\n"
     ]
    }
   ],
   "source": [
    "%%time\n",
    "\n",
    "cxnn.start_detection()\n",
    "\n",
    "for num, phrase in enumerate(noted_phrases[:2500]):\n",
    "    bit_chord = cxnn.bit_notes.phrase_chord_as_bits(phrase)\n",
    "    cxnn.detect_bits(bit_chord)\n",
    "    if num % 500 == 0:\n",
    "        print(f'phrase # {num}/{len(noted_phrases)}')"
   ]
  },
  {
   "cell_type": "code",
   "execution_count": null,
   "metadata": {
    "collapsed": true
   },
   "outputs": [],
   "source": [
    "print(cxnn.cluster_count())\n",
    "pprint(cxnn.cluster_len_stats())\n",
    "pprint(cxnn.cluster_activity_stats())"
   ]
  },
  {
   "cell_type": "code",
   "execution_count": 89,
   "metadata": {
    "scrolled": true
   },
   "outputs": [
    {
     "name": "stdout",
     "output_type": "stream",
     "text": [
      "0 277.6678052110872\n",
      "1 188.92631464954906\n",
      "2 112.26196424119722\n",
      "3 213.48815222464938\n",
      "4 227.93308310491116\n",
      "5 212.69905481727722\n",
      "6 158.57075037995637\n",
      "7 281.2730513462688\n"
     ]
    }
   ],
   "source": [
    "detection = cxnn.summarize_detection()"
   ]
  },
  {
   "cell_type": "code",
   "execution_count": 50,
   "metadata": {},
   "outputs": [
    {
     "data": {
      "text/plain": [
       "{(0,): 'bel',\n",
       " (1,): 'blg',\n",
       " (2,): 'eng',\n",
       " (3,): 'epo',\n",
       " (4,): 'jbo',\n",
       " (5,): 'pol',\n",
       " (6,): 'rus',\n",
       " (7,): 'ukr'}"
      ]
     },
     "execution_count": 50,
     "metadata": {},
     "output_type": "execute_result"
    }
   ],
   "source": [
    "cxnn.data_marks"
   ]
  },
  {
   "cell_type": "code",
   "execution_count": 78,
   "metadata": {},
   "outputs": [
    {
     "name": "stdout",
     "output_type": "stream",
     "text": [
      "bel 193.311594254\n",
      "blg 154.818164486\n",
      "eng 91.2800622718\n",
      "epo 137.287250615\n",
      "jbo 154.806680364\n",
      "pol 67.8774603098\n",
      "rus 112.694601086\n",
      "ukr 170.570249061\n"
     ]
    }
   ],
   "source": [
    "for bits, label in cxnn.data_marks.items():\n",
    "    rate = np.sum(detection[list(bits)])\n",
    "    print(label, rate)"
   ]
  },
  {
   "cell_type": "code",
   "execution_count": 57,
   "metadata": {},
   "outputs": [
    {
     "data": {
      "text/plain": [
       "2990"
      ]
     },
     "execution_count": 57,
     "metadata": {},
     "output_type": "execute_result"
    }
   ],
   "source": [
    "cxnn.vectors_received"
   ]
  },
  {
   "cell_type": "code",
   "execution_count": 91,
   "metadata": {},
   "outputs": [
    {
     "name": "stdout",
     "output_type": "stream",
     "text": [
      "158335\n",
      "[(0, 762), (1, 685), (2, 700), (3, 650), (4, 499), (5, 310), (6, 510), (7, 666)]\n",
      "[(0, 46131), (1, 21117), (2, 14423), (3, 17599), (4, 14382), (5, 6245), (6, 12572), (7, 25866)]\n",
      "[(0, 9360132), (1, 4895444), (2, 2021554), (3, 4140911), (4, 3344792), (5, 1795976), (6, 2955804), (7, 6292907)]\n",
      "[(0, 0.26627729282425244),\n",
      " (1, 0.3384303441133843),\n",
      " (2, 0.20023117837580848),\n",
      " (3, 0.36198831227298756),\n",
      " (4, 0.4660680002753386),\n",
      " (5, 0.9276975128489888),\n",
      " (6, 0.4610001684415414),\n",
      " (7, 0.36529843459790107)]\n"
     ]
    }
   ],
   "source": [
    "print(cxnn.cluster_count())\n",
    "points = [(bit, count) for bit, count in cxnn.point_stats() if count > 0]\n",
    "# print(sorted(points, key=lambda x: x[0]))\n",
    "bit_points = {}\n",
    "for bit, count in points:\n",
    "    bit_points[bit] = bit_points.get(bit, 0) + 1\n",
    "\n",
    "print(sorted(bit_points.items()))\n",
    "    \n",
    "bit_clusters = {}\n",
    "for bit, count in points:\n",
    "    bit_clusters[bit] = bit_clusters.get(bit, 0) + count\n",
    "\n",
    "print(sorted(bit_clusters.items()))\n",
    "\n",
    "bit_activations = {}\n",
    "for point in cxnn.point_objects:\n",
    "    key = point.output_bit\n",
    "    bit_activations[key] = bit_activations.get(key, 0) + sum(cluster.activation_count() for cluster in point.cluster_objects)\n",
    "\n",
    "print(sorted(bit_activations.items()))\n",
    "\n",
    "bit_divs = {}\n",
    "for key in bit_clusters.keys():\n",
    "    bit_divs[key] = bit_activations[key] / (bit_clusters[key] * bit_points[key])\n",
    "\n",
    "pprint(sorted(bit_divs.items()))\n"
   ]
  },
  {
   "cell_type": "code",
   "execution_count": 11,
   "metadata": {},
   "outputs": [
    {
     "data": {
      "text/plain": [
       "1395023.0"
      ]
     },
     "execution_count": 11,
     "metadata": {},
     "output_type": "execute_result"
    }
   ],
   "source": [
    "sum([624, 342637, 0.0, 351069, 2021, 789, 350828, 2955, 274, 1810, 337907, 1010, 3099])"
   ]
  },
  {
   "cell_type": "code",
   "execution_count": 13,
   "metadata": {},
   "outputs": [
    {
     "data": {
      "text/plain": [
       "1216217"
      ]
     },
     "execution_count": 13,
     "metadata": {},
     "output_type": "execute_result"
    }
   ],
   "source": [
    "sum([556, 593, 1233, 3074, 4708, 689398, 24, 10971, 4258, 492475, 2502, 6425])"
   ]
  },
  {
   "cell_type": "code",
   "execution_count": null,
   "metadata": {
    "collapsed": true
   },
   "outputs": [],
   "source": [
    "[0.0, 0.0, 596, 268, 520, 81307, 0.0, 0.0, 0.0, 0.0, 310, 0.0, 79]\n",
    "[0.0, 0.0, 678, 189, 268, 111389, 0.0, 0.0, 0.0, 0.0, 158, 0.0, 50]"
   ]
  }
 ],
 "metadata": {
  "kernelspec": {
   "display_name": "Python 3",
   "language": "python",
   "name": "python3"
  },
  "language_info": {
   "codemirror_mode": {
    "name": "ipython",
    "version": 3
   },
   "file_extension": ".py",
   "mimetype": "text/x-python",
   "name": "python",
   "nbconvert_exporter": "python",
   "pygments_lexer": "ipython3",
   "version": "3.6.1"
  }
 },
 "nbformat": 4,
 "nbformat_minor": 2
}
