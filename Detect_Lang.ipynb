{
 "cells": [
  {
   "cell_type": "code",
   "execution_count": 1,
   "metadata": {
    "collapsed": true
   },
   "outputs": [],
   "source": [
    "%load_ext autoreload\n",
    "# %reload_ext autoreload\n",
    "\n",
    "# Reload all modules imported with %aimport every time before executing the Python code typed\n",
    "%autoreload 1\n",
    "\n",
    "%aimport context_nn \n",
    "%aimport phrase_feeder \n",
    "%aimport bitnotes\n",
    "%aimport watch_point\n",
    "%aimport cluster\n",
    "%aimport constants\n",
    "import numpy as np\n",
    "from bitarray import bitarray\n",
    "from context_nn import ContextNN\n",
    "from watch_point import WatchPoint\n",
    "from cluster import Cluster\n",
    "from phrase_feeder import PhraseFeeder\n",
    "from bitnotes import BitNotes\n",
    "from pprint import pprint\n",
    "import math\n",
    "import constants as const"
   ]
  },
  {
   "cell_type": "code",
   "execution_count": 2,
   "metadata": {
    "collapsed": true
   },
   "outputs": [],
   "source": [
    "import pickle\n",
    "\n",
    "def load_cxnn(file_name: str) -> ContextNN:\n",
    "    with open(file_name, 'rb') as f:\n",
    "        cxnn = pickle.load(f)\n",
    "        return cxnn\n",
    "    \n",
    "def load_noted_phrases(file_name: str) -> list:\n",
    "    with open(file_name, 'rb') as f:\n",
    "        noted_phrases = pickle.load(f)\n",
    "        return noted_phrases"
   ]
  },
  {
   "cell_type": "code",
   "execution_count": 3,
   "metadata": {
    "collapsed": true
   },
   "outputs": [],
   "source": [
    "cxnn = load_cxnn('./data/cxnn_langs.pickle')\n",
    "noted_phrases = load_noted_phrases('./data/texts/tst_rus.pickle')"
   ]
  },
  {
   "cell_type": "code",
   "execution_count": 36,
   "metadata": {
    "collapsed": true
   },
   "outputs": [],
   "source": [
    "cxnn = load_cxnn('./data/cxnn_monotone.pickle')\n",
    "noted_phrases = load_noted_phrases('./data/texts/tst_bbb.pickle')"
   ]
  },
  {
   "cell_type": "code",
   "execution_count": null,
   "metadata": {
    "collapsed": true
   },
   "outputs": [],
   "source": [
    "cxnn = load_cxnn('./data/cxnn_probs.pickle')\n",
    "noted_phrases = load_noted_phrases('./data/texts/tst_3331.pickle')"
   ]
  },
  {
   "cell_type": "code",
   "execution_count": 44,
   "metadata": {
    "collapsed": true
   },
   "outputs": [],
   "source": [
    "cxnn = load_cxnn('./data/cxnn_dna.pickle')\n",
    "noted_phrases = load_noted_phrases('./data/texts/tst_cdef.pickle')"
   ]
  },
  {
   "cell_type": "code",
   "execution_count": 4,
   "metadata": {},
   "outputs": [
    {
     "name": "stdout",
     "output_type": "stream",
     "text": [
      "phrase # 0/2755\n",
      "phrase # 500/2755\n",
      "phrase # 1000/2755\n",
      "phrase # 1500/2755\n",
      "phrase # 2000/2755\n",
      "Wall time: 2min 36s\n"
     ]
    }
   ],
   "source": [
    "%%time\n",
    "\n",
    "cxnn.start_detection()\n",
    "\n",
    "for num, phrase in enumerate(noted_phrases[:2500]):\n",
    "    bit_chord = cxnn.bit_notes.phrase_chord_as_bits(phrase)\n",
    "    cxnn.detect_bits(bit_chord)\n",
    "    if num % 500 == 0:\n",
    "        print(f'phrase # {num}/{len(noted_phrases)}')"
   ]
  },
  {
   "cell_type": "code",
   "execution_count": 7,
   "metadata": {},
   "outputs": [
    {
     "name": "stdout",
     "output_type": "stream",
     "text": [
      "57766\n",
      "{5: 1953, 6: 13446, 7: 33179, 8: 7589, 9: 1395, 10: 176, 11: 25, 12: 3}\n",
      "{0: 57766}\n"
     ]
    }
   ],
   "source": [
    "print(cxnn.cluster_count())\n",
    "pprint(cxnn.cluster_len_stats())\n",
    "pprint(cxnn.cluster_activity_stats())"
   ]
  },
  {
   "cell_type": "code",
   "execution_count": 5,
   "metadata": {},
   "outputs": [
    {
     "data": {
      "text/plain": [
       "{(0,): 'bel',\n",
       " (1,): 'blg',\n",
       " (2,): 'eng',\n",
       " (3,): 'epo',\n",
       " (4,): 'jbo',\n",
       " (5,): 'pol',\n",
       " (6,): 'rus',\n",
       " (7,): 'ukr'}"
      ]
     },
     "execution_count": 5,
     "metadata": {},
     "output_type": "execute_result"
    }
   ],
   "source": [
    "cxnn.data_marks"
   ]
  },
  {
   "cell_type": "code",
   "execution_count": 6,
   "metadata": {},
   "outputs": [
    {
     "name": "stdout",
     "output_type": "stream",
     "text": [
      "[(0, 754685), (1, 521326), (2, 2070794), (3, 1542230), (4, 1064950), (5, 1266822), (6, 223919), (7, 570302)]\n",
      "[(2, 2070794), (3, 1542230), (5, 1266822), (4, 1064950), (0, 754685), (7, 570302), (1, 521326), (6, 223919)]\n"
     ]
    }
   ],
   "source": [
    "bit_detections = {}\n",
    "for point in cxnn.point_objects:\n",
    "    key = point.output_bit\n",
    "    bit_detections[key] = bit_detections.get(key, 0) + point.detections\n",
    "    \n",
    "print(sorted(bit_detections.items()))\n",
    "print(sorted(bit_detections.items(), key=lambda x: x[1], reverse=True))"
   ]
  },
  {
   "cell_type": "code",
   "execution_count": 9,
   "metadata": {
    "scrolled": true
   },
   "outputs": [
    {
     "name": "stdout",
     "output_type": "stream",
     "text": [
      "0 0.0\n",
      "1 0.0\n",
      "2 0\n",
      "3 0.0\n",
      "4 0.0\n",
      "5 0\n",
      "6 0.0\n",
      "7 0.0\n"
     ]
    }
   ],
   "source": [
    "detection = cxnn.summarize_detection()"
   ]
  },
  {
   "cell_type": "code",
   "execution_count": 7,
   "metadata": {},
   "outputs": [
    {
     "ename": "NameError",
     "evalue": "name 'detection' is not defined",
     "output_type": "error",
     "traceback": [
      "\u001b[0;31m---------------------------------------------------------------------------\u001b[0m",
      "\u001b[0;31mNameError\u001b[0m                                 Traceback (most recent call last)",
      "\u001b[0;32m<ipython-input-7-0436ac7bceb7>\u001b[0m in \u001b[0;36m<module>\u001b[0;34m()\u001b[0m\n\u001b[1;32m      1\u001b[0m \u001b[1;32mfor\u001b[0m \u001b[0mbits\u001b[0m\u001b[1;33m,\u001b[0m \u001b[0mlabel\u001b[0m \u001b[1;32min\u001b[0m \u001b[0mcxnn\u001b[0m\u001b[1;33m.\u001b[0m\u001b[0mdata_marks\u001b[0m\u001b[1;33m.\u001b[0m\u001b[0mitems\u001b[0m\u001b[1;33m(\u001b[0m\u001b[1;33m)\u001b[0m\u001b[1;33m:\u001b[0m\u001b[1;33m\u001b[0m\u001b[0m\n\u001b[0;32m----> 2\u001b[0;31m     \u001b[0mrate\u001b[0m \u001b[1;33m=\u001b[0m \u001b[0mnp\u001b[0m\u001b[1;33m.\u001b[0m\u001b[0msum\u001b[0m\u001b[1;33m(\u001b[0m\u001b[0mdetection\u001b[0m\u001b[1;33m[\u001b[0m\u001b[0mlist\u001b[0m\u001b[1;33m(\u001b[0m\u001b[0mbits\u001b[0m\u001b[1;33m)\u001b[0m\u001b[1;33m]\u001b[0m\u001b[1;33m)\u001b[0m\u001b[1;33m\u001b[0m\u001b[0m\n\u001b[0m\u001b[1;32m      3\u001b[0m     \u001b[0mprint\u001b[0m\u001b[1;33m(\u001b[0m\u001b[0mlabel\u001b[0m\u001b[1;33m,\u001b[0m \u001b[0mrate\u001b[0m\u001b[1;33m)\u001b[0m\u001b[1;33m\u001b[0m\u001b[0m\n",
      "\u001b[0;31mNameError\u001b[0m: name 'detection' is not defined"
     ]
    }
   ],
   "source": [
    "for bits, label in cxnn.data_marks.items():\n",
    "    rate = np.sum(detection[list(bits)])\n",
    "    print(label, rate)"
   ]
  },
  {
   "cell_type": "code",
   "execution_count": 8,
   "metadata": {},
   "outputs": [
    {
     "data": {
      "text/plain": [
       "2500"
      ]
     },
     "execution_count": 8,
     "metadata": {},
     "output_type": "execute_result"
    }
   ],
   "source": [
    "cxnn.vectors_received"
   ]
  },
  {
   "cell_type": "code",
   "execution_count": 9,
   "metadata": {},
   "outputs": [
    {
     "name": "stdout",
     "output_type": "stream",
     "text": [
      "57766\n",
      "[(0, 226), (1, 221), (2, 246), (3, 249), (4, 245), (5, 241), (6, 195), (7, 225)]\n",
      "[(0, 4448), (1, 2649), (2, 11712), (3, 11401), (4, 8478), (5, 14890), (6, 1194), (7, 2994)]\n",
      "[(0, 0), (1, 0), (2, 0), (3, 0), (4, 0), (5, 0), (6, 0), (7, 0)]\n",
      "[(0, 0.0), (1, 0.0), (2, 0.0), (3, 0.0), (4, 0.0), (5, 0.0), (6, 0.0), (7, 0.0)]\n"
     ]
    }
   ],
   "source": [
    "print(cxnn.cluster_count())\n",
    "points = [(bit, count) for bit, count in cxnn.point_stats() if count > 0]\n",
    "# print(sorted(points, key=lambda x: x[0]))\n",
    "bit_points = {}\n",
    "for bit, count in points:\n",
    "    bit_points[bit] = bit_points.get(bit, 0) + 1\n",
    "\n",
    "print(sorted(bit_points.items()))\n",
    "    \n",
    "bit_clusters = {}\n",
    "for bit, count in points:\n",
    "    bit_clusters[bit] = bit_clusters.get(bit, 0) + count\n",
    "\n",
    "print(sorted(bit_clusters.items()))\n",
    "\n",
    "bit_activations = {}\n",
    "for point in cxnn.point_objects:\n",
    "    key = point.output_bit\n",
    "    bit_activations[key] = bit_activations.get(key, 0) + sum(cluster.activation_count() \n",
    "                                                             for cluster in point.cluster_objects \n",
    "                                                             if cluster.consolidations >= 0 and \n",
    "                                                                cluster.activation_count() > 200)\n",
    "\n",
    "print(sorted(bit_activations.items()))\n",
    "\n",
    "bit_divs = {}\n",
    "for key in bit_clusters.keys():\n",
    "    bit_divs[key] = bit_activations[key] / (bit_clusters[key] * bit_points[key])\n",
    "\n",
    "pprint(sorted(bit_divs.items()))\n"
   ]
  },
  {
   "cell_type": "code",
   "execution_count": 53,
   "metadata": {},
   "outputs": [
    {
     "data": {
      "text/plain": [
       "227.60557341907824"
      ]
     },
     "execution_count": 53,
     "metadata": {},
     "output_type": "execute_result"
    }
   ],
   "source": [
    "212356 / 933"
   ]
  },
  {
   "cell_type": "code",
   "execution_count": 55,
   "metadata": {},
   "outputs": [
    {
     "data": {
      "text/plain": [
       "291.2081452310057"
      ]
     },
     "execution_count": 55,
     "metadata": {},
     "output_type": "execute_result"
    }
   ],
   "source": [
    "3031768 / 10411"
   ]
  }
 ],
 "metadata": {
  "kernelspec": {
   "display_name": "Python 3",
   "language": "python",
   "name": "python3"
  },
  "language_info": {
   "codemirror_mode": {
    "name": "ipython",
    "version": 3
   },
   "file_extension": ".py",
   "mimetype": "text/x-python",
   "name": "python",
   "nbconvert_exporter": "python",
   "pygments_lexer": "ipython3",
   "version": "3.6.1"
  }
 },
 "nbformat": 4,
 "nbformat_minor": 2
}
