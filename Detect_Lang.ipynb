{
 "cells": [
  {
   "cell_type": "code",
   "execution_count": 2,
   "metadata": {
    "collapsed": true
   },
   "outputs": [],
   "source": [
    "%load_ext autoreload\n",
    "# %reload_ext autoreload\n",
    "\n",
    "# Reload all modules imported with %aimport every time before executing the Python code typed\n",
    "%autoreload 1\n",
    "\n",
    "%aimport context_nn \n",
    "%aimport phrase_feeder \n",
    "%aimport bitnotes\n",
    "%aimport watch_point\n",
    "%aimport cluster\n",
    "%aimport constants\n",
    "import numpy as np\n",
    "from bitarray import bitarray\n",
    "from context_nn import ContextNN\n",
    "from watch_point import WatchPoint\n",
    "from cluster import Cluster\n",
    "from phrase_feeder import PhraseFeeder\n",
    "from bitnotes import BitNotes\n",
    "from pprint import pprint\n",
    "import math\n",
    "import constants as const"
   ]
  },
  {
   "cell_type": "code",
   "execution_count": 3,
   "metadata": {
    "collapsed": true
   },
   "outputs": [],
   "source": [
    "import pickle\n",
    "\n",
    "def load_cxnn(file_name: str) -> ContextNN:\n",
    "    with open(file_name, 'rb') as f:\n",
    "        cxnn = pickle.load(f)\n",
    "        return cxnn\n",
    "    \n",
    "def load_noted_phrases(file_name: str) -> list:\n",
    "    with open(file_name, 'rb') as f:\n",
    "        noted_phrases = pickle.load(f)\n",
    "        return noted_phrases"
   ]
  },
  {
   "cell_type": "code",
   "execution_count": 54,
   "metadata": {},
   "outputs": [],
   "source": [
    "cxnn = load_cxnn('./data/cxnn_langs.pickle')\n",
    "noted_phrases = load_noted_phrases('./data/texts/tst_pol.pickle')"
   ]
  },
  {
   "cell_type": "code",
   "execution_count": null,
   "metadata": {
    "collapsed": true
   },
   "outputs": [],
   "source": [
    "# cxnn = load_cxnn('./data/cxnn_monotone.pickle')\n",
    "# noted_phrases = load_noted_phrases('./data/texts/tst_bbb.pickle')"
   ]
  },
  {
   "cell_type": "code",
   "execution_count": 55,
   "metadata": {},
   "outputs": [
    {
     "name": "stdout",
     "output_type": "stream",
     "text": [
      "phrase # 0/2990\n",
      "phrase # 500/2990\n",
      "phrase # 1000/2990\n",
      "phrase # 1500/2990\n",
      "phrase # 2000/2990\n",
      "phrase # 2500/2990\n",
      "Wall time: 1min 24s\n"
     ]
    }
   ],
   "source": [
    "%%time\n",
    "\n",
    "cxnn.start_detection()\n",
    "\n",
    "for num, phrase in enumerate(noted_phrases):\n",
    "    bit_chord = cxnn.bit_notes.phrase_chord_as_bits(phrase)\n",
    "    cxnn.detect_bits(bit_chord)\n",
    "    if num % 500 == 0:\n",
    "        print(f'phrase # {num}/{len(noted_phrases)}')"
   ]
  },
  {
   "cell_type": "code",
   "execution_count": null,
   "metadata": {
    "collapsed": true
   },
   "outputs": [],
   "source": [
    "print(cxnn.cluster_count())\n",
    "pprint(cxnn.cluster_len_stats())\n",
    "pprint(cxnn.cluster_activity_stats())"
   ]
  },
  {
   "cell_type": "code",
   "execution_count": 56,
   "metadata": {
    "scrolled": true
   },
   "outputs": [
    {
     "name": "stdout",
     "output_type": "stream",
     "text": [
      "0 508.27406636803573\n",
      "1 369.18619573769945\n",
      "2 356.33846312513333\n",
      "3 490.4516903112951\n",
      "4 469.51377109620637\n",
      "5 477.0603609417511\n",
      "6 552.5294841282102\n",
      "7 508.5783807872345\n"
     ]
    }
   ],
   "source": [
    "detection = cxnn.summarize_detection(point_threshold=500)"
   ]
  },
  {
   "cell_type": "code",
   "execution_count": 50,
   "metadata": {},
   "outputs": [
    {
     "data": {
      "text/plain": [
       "{(0,): 'bel',\n",
       " (1,): 'blg',\n",
       " (2,): 'eng',\n",
       " (3,): 'epo',\n",
       " (4,): 'jbo',\n",
       " (5,): 'pol',\n",
       " (6,): 'rus',\n",
       " (7,): 'ukr'}"
      ]
     },
     "execution_count": 50,
     "metadata": {},
     "output_type": "execute_result"
    }
   ],
   "source": [
    "cxnn.data_marks"
   ]
  },
  {
   "cell_type": "code",
   "execution_count": 57,
   "metadata": {},
   "outputs": [
    {
     "name": "stdout",
     "output_type": "stream",
     "text": [
      "bel 508.274066368\n",
      "blg 369.186195738\n",
      "eng 356.338463125\n",
      "epo 490.451690311\n",
      "jbo 469.513771096\n",
      "pol 477.060360942\n",
      "rus 552.529484128\n",
      "ukr 508.578380787\n"
     ]
    }
   ],
   "source": [
    "for bits, label in cxnn.data_marks.items():\n",
    "    rate = np.sum(detection[list(bits)])\n",
    "    print(label, rate)"
   ]
  },
  {
   "cell_type": "code",
   "execution_count": 43,
   "metadata": {},
   "outputs": [
    {
     "data": {
      "text/plain": [
       "4330"
      ]
     },
     "execution_count": 43,
     "metadata": {},
     "output_type": "execute_result"
    }
   ],
   "source": [
    "cxnn.vectors_received"
   ]
  },
  {
   "cell_type": "code",
   "execution_count": 48,
   "metadata": {},
   "outputs": [
    {
     "name": "stdout",
     "output_type": "stream",
     "text": [
      "15428\n",
      "[(3, 2), (5, 3), (4, 0), (1, 2), (0, 68), (0, 43), (3, 0), (4, 9), (0, 9), (5, 5), (6, 0), (4, 33), (2, 0), (4, 13), (7, 154), (4, 2), (0, 496), (7, 0), (2, 1), (1, 129), (1, 10), (3, 1), (2, 0), (6, 3), (7, 2), (0, 283), (4, 2), (1, 17), (5, 1), (4, 23), (0, 31), (3, 0), (0, 3), (2, 0), (6, 1), (3, 0), (6, 2), (2, 1), (3, 4), (7, 12), (7, 0), (5, 0), (7, 0), (0, 494), (6, 0), (5, 58), (0, 0), (4, 32), (1, 2), (5, 102), (3, 15), (7, 0), (0, 0), (2, 6), (2, 0), (3, 2), (5, 0), (7, 0), (5, 0), (0, 42), (5, 4), (2, 0), (7, 3), (0, 44), (6, 2), (2, 16), (7, 21), (2, 17), (4, 9), (2, 0), (3, 42), (7, 0), (6, 3), (1, 0), (5, 3), (0, 0), (6, 0), (1, 1), (0, 1), (1, 6), (4, 1), (5, 7), (0, 0), (4, 0), (4, 239), (5, 1), (7, 29), (1, 0), (6, 25), (3, 14), (3, 228), (6, 0), (7, 11), (4, 40), (4, 1), (4, 1), (2, 0), (5, 0), (1, 239), (7, 7), (6, 200), (3, 4), (4, 0), (3, 10), (4, 0), (0, 3), (5, 78), (3, 2), (0, 3), (2, 12), (5, 0), (3, 0), (2, 31), (4, 0), (3, 5), (3, 0), (1, 28), (6, 1), (6, 0), (6, 2), (1, 11), (6, 7), (3, 0), (5, 0), (7, 0), (3, 0), (2, 281), (7, 5), (6, 2), (5, 0), (0, 332), (7, 19), (6, 3), (2, 10), (4, 33), (4, 168), (1, 21), (3, 256), (0, 510), (7, 0), (4, 244), (3, 12), (1, 1), (6, 5), (5, 7), (3, 1), (4, 38), (7, 3), (6, 2), (5, 0), (5, 0), (0, 0), (3, 1), (0, 326), (6, 0), (0, 53), (3, 3), (4, 24), (6, 2), (0, 1), (7, 8), (0, 35), (5, 1), (3, 0), (6, 47), (3, 0), (6, 3), (7, 18), (5, 0), (3, 5), (6, 74), (1, 6), (3, 2), (5, 0), (0, 4), (7, 417), (3, 3), (2, 1), (6, 2), (1, 51), (3, 0), (3, 6), (5, 0), (6, 228), (6, 1), (3, 7), (5, 0), (2, 1), (5, 0), (2, 40), (1, 0), (1, 75), (4, 2), (6, 65), (1, 0), (5, 3), (0, 18), (7, 3), (1, 172), (0, 509), (3, 38), (7, 1), (0, 34), (4, 24), (0, 0), (6, 8), (1, 22), (0, 0), (1, 9), (2, 0), (5, 0), (7, 5), (7, 4), (3, 0), (4, 1), (7, 17), (3, 0), (4, 28), (3, 2), (6, 0), (3, 0), (3, 0), (1, 4), (7, 0), (2, 5), (2, 0), (3, 2), (2, 333), (6, 0), (1, 8), (1, 195), (7, 0), (1, 19), (5, 0), (0, 1), (7, 0), (4, 0), (4, 1), (6, 1), (0, 50), (5, 0), (2, 0), (1, 24), (6, 0), (1, 1), (5, 87), (0, 3), (4, 8), (3, 0), (1, 192), (2, 8), (7, 0), (7, 437), (1, 118), (7, 0), (2, 1), (2, 9), (5, 0), (7, 9), (1, 9), (0, 0), (4, 271), (2, 6), (7, 21), (5, 12), (2, 11), (5, 2), (4, 1), (2, 11), (4, 0), (7, 11), (2, 6), (5, 0), (1, 0), (3, 0), (3, 0), (7, 0), (1, 3), (1, 255), (1, 6), (0, 8), (2, 0), (7, 0), (3, 0), (0, 9), (5, 0), (1, 2), (3, 9), (3, 214), (5, 3), (0, 30), (7, 0), (3, 1), (2, 1), (3, 1), (7, 151), (1, 0), (5, 6), (4, 12), (4, 0), (3, 334), (2, 18), (2, 0), (0, 61), (2, 248), (4, 1), (5, 0), (0, 3), (6, 0), (5, 0), (3, 4), (3, 1), (6, 40), (0, 0), (7, 77), (4, 0), (7, 0), (7, 0), (7, 0), (5, 1), (6, 0), (2, 140), (6, 0), (7, 26), (4, 3), (6, 1), (7, 27), (6, 0), (4, 4), (4, 0), (2, 0), (6, 0), (6, 6), (7, 5), (2, 12), (6, 15), (0, 1), (1, 10), (4, 2), (6, 15), (6, 3), (1, 3), (4, 0), (6, 0), (5, 0), (2, 0), (6, 4), (5, 0), (4, 0), (2, 11), (3, 1), (5, 0), (5, 0), (1, 2), (0, 6), (0, 103), (1, 18), (0, 79), (0, 4), (5, 0), (5, 1), (7, 1), (6, 4), (7, 0), (2, 2), (1, 14), (2, 6), (2, 5), (0, 14), (7, 3), (2, 0), (1, 16), (0, 3), (2, 12), (4, 6), (1, 4), (0, 61), (4, 0), (1, 137), (4, 10), (6, 0), (4, 5), (1, 10), (5, 83), (4, 2), (2, 18), (2, 0), (2, 0), (1, 15), (5, 2), (5, 0), (4, 3), (1, 4), (5, 18), (6, 0), (4, 0), (1, 118), (0, 0), (2, 12), (2, 11), (5, 0), (4, 0), (0, 0), (6, 53), (3, 3), (0, 6), (6, 0), (4, 19), (3, 1), (3, 0), (1, 16), (6, 0), (3, 1), (3, 1), (1, 1), (2, 5), (6, 0), (5, 0), (2, 0), (4, 2), (2, 8), (0, 3), (1, 8), (6, 0), (7, 369), (7, 26), (5, 0), (7, 19), (7, 430), (1, 241), (0, 0), (1, 17), (2, 0), (6, 4), (0, 0), (3, 6), (1, 0), (6, 0), (3, 254), (5, 0), (6, 0), (4, 246), (2, 0), (1, 2), (0, 1), (7, 11), (5, 0), (2, 42), (5, 0), (7, 10), (2, 20), (1, 2), (7, 0), (5, 0), (1, 4), (1, 29), (2, 5), (7, 37), (0, 0), (0, 0), (1, 200), (0, 7), (7, 0), (2, 0), (6, 0), (4, 1), (2, 3), (3, 3), (0, 25), (6, 17), (7, 0), (7, 17), (1, 20), (4, 4), (2, 0), (0, 0), (0, 86), (0, 21), (5, 0), (4, 0), (4, 0), (0, 434), (3, 38), (6, 4), (5, 0), (4, 1), (7, 1), (5, 11), (1, 12), (1, 102), (3, 1), (4, 2), (4, 24), (6, 7), (3, 1), (6, 0), (3, 1), (4, 0), (2, 14), (5, 99)]\n"
     ]
    }
   ],
   "source": [
    "print(cxnn.cluster_count())\n",
    "print(cxnn.point_stats())"
   ]
  },
  {
   "cell_type": "code",
   "execution_count": 11,
   "metadata": {},
   "outputs": [
    {
     "data": {
      "text/plain": [
       "1395023.0"
      ]
     },
     "execution_count": 11,
     "metadata": {},
     "output_type": "execute_result"
    }
   ],
   "source": [
    "sum([624, 342637, 0.0, 351069, 2021, 789, 350828, 2955, 274, 1810, 337907, 1010, 3099])"
   ]
  },
  {
   "cell_type": "code",
   "execution_count": 13,
   "metadata": {},
   "outputs": [
    {
     "data": {
      "text/plain": [
       "1216217"
      ]
     },
     "execution_count": 13,
     "metadata": {},
     "output_type": "execute_result"
    }
   ],
   "source": [
    "sum([556, 593, 1233, 3074, 4708, 689398, 24, 10971, 4258, 492475, 2502, 6425])"
   ]
  },
  {
   "cell_type": "code",
   "execution_count": null,
   "metadata": {
    "collapsed": true
   },
   "outputs": [],
   "source": [
    "[0.0, 0.0, 596, 268, 520, 81307, 0.0, 0.0, 0.0, 0.0, 310, 0.0, 79]\n",
    "[0.0, 0.0, 678, 189, 268, 111389, 0.0, 0.0, 0.0, 0.0, 158, 0.0, 50]"
   ]
  }
 ],
 "metadata": {
  "kernelspec": {
   "display_name": "Python 3",
   "language": "python",
   "name": "python3"
  },
  "language_info": {
   "codemirror_mode": {
    "name": "ipython",
    "version": 3
   },
   "file_extension": ".py",
   "mimetype": "text/x-python",
   "name": "python",
   "nbconvert_exporter": "python",
   "pygments_lexer": "ipython3",
   "version": "3.6.1"
  }
 },
 "nbformat": 4,
 "nbformat_minor": 2
}
