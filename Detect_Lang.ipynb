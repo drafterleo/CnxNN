{
 "cells": [
  {
   "cell_type": "code",
   "execution_count": 1,
   "metadata": {
    "collapsed": true
   },
   "outputs": [],
   "source": [
    "%load_ext autoreload\n",
    "# %reload_ext autoreload\n",
    "\n",
    "# Reload all modules imported with %aimport every time before executing the Python code typed\n",
    "%autoreload 1\n",
    "\n",
    "%aimport context_nn \n",
    "%aimport phrase_feeder \n",
    "%aimport bitnotes\n",
    "%aimport watch_point\n",
    "%aimport cluster\n",
    "%aimport constants\n",
    "import numpy as np\n",
    "from bitarray import bitarray\n",
    "from context_nn import ContextNN\n",
    "from watch_point import WatchPoint\n",
    "from cluster import Cluster\n",
    "from phrase_feeder import PhraseFeeder\n",
    "from bitnotes import BitNotes\n",
    "from pprint import pprint\n",
    "import math\n",
    "import constants as const"
   ]
  },
  {
   "cell_type": "code",
   "execution_count": 2,
   "metadata": {
    "collapsed": true
   },
   "outputs": [],
   "source": [
    "import pickle\n",
    "\n",
    "def load_cxnn(file_name: str) -> ContextNN:\n",
    "    with open(file_name, 'rb') as f:\n",
    "        cxnn = pickle.load(f)\n",
    "        return cxnn\n",
    "    \n",
    "def load_noted_phrases(file_name: str) -> list:\n",
    "    with open(file_name, 'rb') as f:\n",
    "        noted_phrases = pickle.load(f)\n",
    "        return noted_phrases"
   ]
  },
  {
   "cell_type": "code",
   "execution_count": 52,
   "metadata": {
    "collapsed": true
   },
   "outputs": [],
   "source": [
    "cxnn = load_cxnn('./data/cxnn_langs.pickle')\n",
    "noted_phrases = load_noted_phrases('./data/texts/tst_pol.pickle')"
   ]
  },
  {
   "cell_type": "code",
   "execution_count": null,
   "metadata": {
    "collapsed": true
   },
   "outputs": [],
   "source": [
    "# cxnn = load_cxnn('./data/cxnn_monotone.pickle')\n",
    "# noted_phrases = load_noted_phrases('./data/texts/tst_bbb.pickle')"
   ]
  },
  {
   "cell_type": "code",
   "execution_count": 53,
   "metadata": {},
   "outputs": [
    {
     "name": "stdout",
     "output_type": "stream",
     "text": [
      "phrase # 0/2990\n",
      "phrase # 500/2990\n",
      "phrase # 1000/2990\n",
      "phrase # 1500/2990\n",
      "phrase # 2000/2990\n",
      "phrase # 2500/2990\n",
      "Wall time: 1min 17s\n"
     ]
    }
   ],
   "source": [
    "%%time\n",
    "\n",
    "cxnn.start_detection()\n",
    "\n",
    "for num, phrase in enumerate(noted_phrases):\n",
    "    bit_chord = cxnn.bit_notes.phrase_chord_as_bits(phrase)\n",
    "    cxnn.detect_bits(bit_chord)\n",
    "    if num % 500 == 0:\n",
    "        print(f'phrase # {num}/{len(noted_phrases)}')"
   ]
  },
  {
   "cell_type": "code",
   "execution_count": null,
   "metadata": {
    "collapsed": true
   },
   "outputs": [],
   "source": [
    "print(cxnn.cluster_count())\n",
    "pprint(cxnn.cluster_len_stats())\n",
    "pprint(cxnn.cluster_activity_stats())"
   ]
  },
  {
   "cell_type": "code",
   "execution_count": 54,
   "metadata": {
    "scrolled": true
   },
   "outputs": [
    {
     "name": "stdout",
     "output_type": "stream",
     "text": [
      "0 621.9485002887619\n",
      "1 187.90357759416048\n",
      "2 111.0591452445269\n",
      "3 231.88225369887314\n",
      "4 398.80670096881886\n",
      "5 133.678331074212\n",
      "6 216.087074702922\n",
      "7 248.31007118495648\n"
     ]
    }
   ],
   "source": [
    "detection = cxnn.summarize_detection()"
   ]
  },
  {
   "cell_type": "code",
   "execution_count": 50,
   "metadata": {},
   "outputs": [
    {
     "data": {
      "text/plain": [
       "{(0,): 'bel',\n",
       " (1,): 'blg',\n",
       " (2,): 'eng',\n",
       " (3,): 'epo',\n",
       " (4,): 'jbo',\n",
       " (5,): 'pol',\n",
       " (6,): 'rus',\n",
       " (7,): 'ukr'}"
      ]
     },
     "execution_count": 50,
     "metadata": {},
     "output_type": "execute_result"
    }
   ],
   "source": [
    "cxnn.data_marks"
   ]
  },
  {
   "cell_type": "code",
   "execution_count": 32,
   "metadata": {},
   "outputs": [
    {
     "name": "stdout",
     "output_type": "stream",
     "text": [
      "bel 559.574733855\n",
      "blg 178.632143638\n",
      "eng 108.987736043\n",
      "epo 183.595182381\n",
      "jbo 353.674665459\n",
      "pol 106.80813494\n",
      "rus 204.339268233\n",
      "ukr 274.450320353\n"
     ]
    }
   ],
   "source": [
    "for bits, label in cxnn.data_marks.items():\n",
    "    rate = np.sum(detection[list(bits)])\n",
    "    print(label, rate)"
   ]
  },
  {
   "cell_type": "code",
   "execution_count": 57,
   "metadata": {},
   "outputs": [
    {
     "data": {
      "text/plain": [
       "2990"
      ]
     },
     "execution_count": 57,
     "metadata": {},
     "output_type": "execute_result"
    }
   ],
   "source": [
    "cxnn.vectors_received"
   ]
  },
  {
   "cell_type": "code",
   "execution_count": 56,
   "metadata": {},
   "outputs": [
    {
     "name": "stdout",
     "output_type": "stream",
     "text": [
      "19779\n",
      "[(0, 56), (1, 34), (2, 33), (3, 51), (4, 55), (5, 27), (6, 32), (7, 40)]\n",
      "[(0, 8310), (1, 1329), (2, 597), (3, 1767), (4, 4166), (5, 360), (6, 1007), (7, 2243)]\n",
      "[(0, 1479975), (1, 247356), (2, 123496), (3, 460205), (4, 1049804), (5, 82021), (6, 243831), (7, 445890)]\n",
      "[(0, 176.90353813052832),\n",
      " (1, 181.479090242113),\n",
      " (2, 196.02539682539683),\n",
      " (3, 253.13806380638064),\n",
      " (4, 248.70978441127696),\n",
      " (5, 211.9405684754522),\n",
      " (6, 234.67853705486044),\n",
      " (7, 195.30880420499344)]\n"
     ]
    }
   ],
   "source": [
    "print(cxnn.cluster_count())\n",
    "points = [(bit, count) for bit, count in cxnn.point_stats() if count > 0]\n",
    "# print(sorted(points, key=lambda x: x[0]))\n",
    "bit_points = {}\n",
    "for bit, count in points:\n",
    "    bit_points[bit] = bit_points.get(bit, 0) + 1\n",
    "\n",
    "print(sorted(bit_points.items()))\n",
    "    \n",
    "bit_clusters = {}\n",
    "for bit, count in points:\n",
    "    bit_clusters[bit] = bit_clusters.get(bit, 0) + count\n",
    "\n",
    "print(sorted(bit_clusters.items()))\n",
    "\n",
    "bit_activations = {}\n",
    "for point in cxnn.point_objects:\n",
    "    key = point.output_bit\n",
    "    bit_activations[key] = bit_activations.get(key, 0) + sum(cluster.activation_count() for cluster in point.cluster_objects)\n",
    "\n",
    "print(sorted(bit_activations.items()))\n",
    "\n",
    "bit_divs = {}\n",
    "for key in bit_clusters.keys():\n",
    "    bit_divs[key] = bit_activations[key] / (bit_clusters[key] + bit_points[key])\n",
    "\n",
    "pprint(sorted(bit_divs.items()))\n"
   ]
  },
  {
   "cell_type": "code",
   "execution_count": 11,
   "metadata": {},
   "outputs": [
    {
     "data": {
      "text/plain": [
       "1395023.0"
      ]
     },
     "execution_count": 11,
     "metadata": {},
     "output_type": "execute_result"
    }
   ],
   "source": [
    "sum([624, 342637, 0.0, 351069, 2021, 789, 350828, 2955, 274, 1810, 337907, 1010, 3099])"
   ]
  },
  {
   "cell_type": "code",
   "execution_count": 13,
   "metadata": {},
   "outputs": [
    {
     "data": {
      "text/plain": [
       "1216217"
      ]
     },
     "execution_count": 13,
     "metadata": {},
     "output_type": "execute_result"
    }
   ],
   "source": [
    "sum([556, 593, 1233, 3074, 4708, 689398, 24, 10971, 4258, 492475, 2502, 6425])"
   ]
  },
  {
   "cell_type": "code",
   "execution_count": null,
   "metadata": {
    "collapsed": true
   },
   "outputs": [],
   "source": [
    "[0.0, 0.0, 596, 268, 520, 81307, 0.0, 0.0, 0.0, 0.0, 310, 0.0, 79]\n",
    "[0.0, 0.0, 678, 189, 268, 111389, 0.0, 0.0, 0.0, 0.0, 158, 0.0, 50]"
   ]
  }
 ],
 "metadata": {
  "kernelspec": {
   "display_name": "Python 3",
   "language": "python",
   "name": "python3"
  },
  "language_info": {
   "codemirror_mode": {
    "name": "ipython",
    "version": 3
   },
   "file_extension": ".py",
   "mimetype": "text/x-python",
   "name": "python",
   "nbconvert_exporter": "python",
   "pygments_lexer": "ipython3",
   "version": "3.6.1"
  }
 },
 "nbformat": 4,
 "nbformat_minor": 2
}
