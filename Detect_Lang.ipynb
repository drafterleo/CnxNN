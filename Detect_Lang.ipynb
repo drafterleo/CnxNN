{
 "cells": [
  {
   "cell_type": "code",
   "execution_count": 1,
   "metadata": {
    "collapsed": true
   },
   "outputs": [],
   "source": [
    "%load_ext autoreload\n",
    "# %reload_ext autoreload\n",
    "\n",
    "# Reload all modules imported with %aimport every time before executing the Python code typed\n",
    "%autoreload 1\n",
    "\n",
    "%aimport context_nn \n",
    "%aimport phrase_feeder \n",
    "%aimport bitnotes\n",
    "%aimport watch_point\n",
    "%aimport cluster\n",
    "%aimport constants\n",
    "import numpy as np\n",
    "from bitarray import bitarray\n",
    "from context_nn import ContextNN\n",
    "from watch_point import WatchPoint\n",
    "from cluster import Cluster\n",
    "from phrase_feeder import PhraseFeeder\n",
    "from bitnotes import BitNotes\n",
    "from pprint import pprint\n",
    "import math\n",
    "import constants as const"
   ]
  },
  {
   "cell_type": "code",
   "execution_count": 2,
   "metadata": {
    "collapsed": true
   },
   "outputs": [],
   "source": [
    "import pickle\n",
    "\n",
    "def load_cxnn(file_name: str) -> ContextNN:\n",
    "    with open(file_name, 'rb') as f:\n",
    "        cxnn = pickle.load(f)\n",
    "        return cxnn\n",
    "    \n",
    "def load_noted_phrases(file_name: str) -> list:\n",
    "    with open(file_name, 'rb') as f:\n",
    "        noted_phrases = pickle.load(f)\n",
    "        return noted_phrases"
   ]
  },
  {
   "cell_type": "code",
   "execution_count": 49,
   "metadata": {},
   "outputs": [],
   "source": [
    "cxnn = load_cxnn('./data/cxnn_langs.pickle')\n",
    "noted_phrases = load_noted_phrases('./data/texts/tst_rus.pickle')"
   ]
  },
  {
   "cell_type": "code",
   "execution_count": null,
   "metadata": {
    "collapsed": true
   },
   "outputs": [],
   "source": [
    "# cxnn = load_cxnn('./data/cxnn_monotone.pickle')\n",
    "# noted_phrases = load_noted_phrases('./data/texts/tst_bbb.pickle')"
   ]
  },
  {
   "cell_type": "code",
   "execution_count": 28,
   "metadata": {
    "collapsed": true
   },
   "outputs": [],
   "source": [
    "cxnn = load_cxnn('./data/cxnn_probs.pickle')\n",
    "noted_phrases = load_noted_phrases('./data/texts/tst_3331.pickle')"
   ]
  },
  {
   "cell_type": "code",
   "execution_count": 61,
   "metadata": {
    "collapsed": true
   },
   "outputs": [],
   "source": [
    "cxnn = load_cxnn('./data/cxnn_dna.pickle')\n",
    "noted_phrases = load_noted_phrases('./data/texts/tst_xyzw.pickle')"
   ]
  },
  {
   "cell_type": "code",
   "execution_count": 62,
   "metadata": {},
   "outputs": [
    {
     "name": "stdout",
     "output_type": "stream",
     "text": [
      "phrase # 0/4975\n",
      "phrase # 500/4975\n",
      "phrase # 1000/4975\n",
      "phrase # 1500/4975\n",
      "phrase # 2000/4975\n",
      "phrase # 2500/4975\n",
      "phrase # 3000/4975\n",
      "phrase # 3500/4975\n",
      "phrase # 4000/4975\n",
      "phrase # 4500/4975\n",
      "Wall time: 2min 22s\n"
     ]
    }
   ],
   "source": [
    "%%time\n",
    "\n",
    "cxnn.start_detection()\n",
    "\n",
    "for num, phrase in enumerate(noted_phrases):\n",
    "    bit_chord = cxnn.bit_notes.phrase_chord_as_bits(phrase)\n",
    "    cxnn.detect_bits(bit_chord)\n",
    "    if num % 500 == 0:\n",
    "        print(f'phrase # {num}/{len(noted_phrases)}')"
   ]
  },
  {
   "cell_type": "code",
   "execution_count": null,
   "metadata": {
    "collapsed": true
   },
   "outputs": [],
   "source": [
    "print(cxnn.cluster_count())\n",
    "pprint(cxnn.cluster_len_stats())\n",
    "pprint(cxnn.cluster_activity_stats())"
   ]
  },
  {
   "cell_type": "code",
   "execution_count": 58,
   "metadata": {},
   "outputs": [
    {
     "data": {
      "text/plain": [
       "{(0,): 'abcd',\n",
       " (1,): 'cdef',\n",
       " (2,): 'klmn',\n",
       " (3,): 'ijhg',\n",
       " (4,): 'oprs',\n",
       " (5,): 'xyzw',\n",
       " (6,): 'quva',\n",
       " (7,): 'kiox',\n",
       " (8,): 'nghp'}"
      ]
     },
     "execution_count": 58,
     "metadata": {},
     "output_type": "execute_result"
    }
   ],
   "source": [
    "cxnn.data_marks"
   ]
  },
  {
   "cell_type": "code",
   "execution_count": 63,
   "metadata": {
    "scrolled": true
   },
   "outputs": [
    {
     "name": "stdout",
     "output_type": "stream",
     "text": [
      "0 18.298720467028673\n",
      "1 20.753455415591816\n",
      "2 8.047262232465112\n",
      "3 22.00655917664805\n",
      "4 15.782150939144234\n",
      "5 1857.7480487590142\n",
      "6 12.095660126044427\n",
      "7 257.63353864402916\n",
      "8 18.701310758576522\n"
     ]
    }
   ],
   "source": [
    "detection = cxnn.summarize_detection()"
   ]
  },
  {
   "cell_type": "code",
   "execution_count": 65,
   "metadata": {},
   "outputs": [
    {
     "name": "stdout",
     "output_type": "stream",
     "text": [
      "abcd 18.298720467\n",
      "cdef 20.7534554156\n",
      "klmn 8.04726223247\n",
      "ijhg 22.0065591766\n",
      "oprs 15.7821509391\n",
      "xyzw 1857.74804876\n",
      "quva 12.095660126\n",
      "kiox 257.633538644\n",
      "nghp 18.7013107586\n"
     ]
    }
   ],
   "source": [
    "for bits, label in cxnn.data_marks.items():\n",
    "    rate = np.sum(detection[list(bits)])\n",
    "    print(label, rate)"
   ]
  },
  {
   "cell_type": "code",
   "execution_count": 30,
   "metadata": {},
   "outputs": [
    {
     "data": {
      "text/plain": [
       "4975"
      ]
     },
     "execution_count": 30,
     "metadata": {},
     "output_type": "execute_result"
    }
   ],
   "source": [
    "cxnn.vectors_received"
   ]
  },
  {
   "cell_type": "code",
   "execution_count": 64,
   "metadata": {},
   "outputs": [
    {
     "name": "stdout",
     "output_type": "stream",
     "text": [
      "52241\n",
      "[(0, 176), (1, 154), (2, 164), (3, 159), (4, 163), (5, 159), (6, 154), (7, 153), (8, 160)]\n",
      "[(0, 6195), (1, 6100), (2, 5205), (3, 5867), (4, 5477), (5, 6492), (6, 5850), (7, 5504), (8, 5551)]\n",
      "[(0, 49576), (1, 48145), (2, 16025), (3, 73715), (4, 38470), (5, 5600855), (6, 36042), (7, 803041), (8, 61781)]\n",
      "[(0, 0.045469220045491233),\n",
      " (1, 0.05125079838194592),\n",
      " (2, 0.01877299032356318),\n",
      " (3, 0.07902102474880822),\n",
      " (4, 0.04309152272022098),\n",
      " (5, 5.425986313101369),\n",
      " (6, 0.040006660006660005),\n",
      " (7, 0.9536035586715307),\n",
      " (8, 0.06956066474509097)]\n"
     ]
    }
   ],
   "source": [
    "print(cxnn.cluster_count())\n",
    "points = [(bit, count) for bit, count in cxnn.point_stats() if count > 0]\n",
    "# print(sorted(points, key=lambda x: x[0]))\n",
    "bit_points = {}\n",
    "for bit, count in points:\n",
    "    bit_points[bit] = bit_points.get(bit, 0) + 1\n",
    "\n",
    "print(sorted(bit_points.items()))\n",
    "    \n",
    "bit_clusters = {}\n",
    "for bit, count in points:\n",
    "    bit_clusters[bit] = bit_clusters.get(bit, 0) + count\n",
    "\n",
    "print(sorted(bit_clusters.items()))\n",
    "\n",
    "bit_activations = {}\n",
    "for point in cxnn.point_objects:\n",
    "    key = point.output_bit\n",
    "    bit_activations[key] = bit_activations.get(key, 0) + sum(cluster.activation_count() \n",
    "                                                             for cluster in point.cluster_objects \n",
    "                                                             if cluster.consolidations >= 0)\n",
    "\n",
    "print(sorted(bit_activations.items()))\n",
    "\n",
    "bit_divs = {}\n",
    "for key in bit_clusters.keys():\n",
    "    bit_divs[key] = bit_activations[key] / (bit_clusters[key] * bit_points[key])\n",
    "\n",
    "pprint(sorted(bit_divs.items()))\n"
   ]
  },
  {
   "cell_type": "code",
   "execution_count": 11,
   "metadata": {},
   "outputs": [
    {
     "data": {
      "text/plain": [
       "1395023.0"
      ]
     },
     "execution_count": 11,
     "metadata": {},
     "output_type": "execute_result"
    }
   ],
   "source": [
    "sum([624, 342637, 0.0, 351069, 2021, 789, 350828, 2955, 274, 1810, 337907, 1010, 3099])"
   ]
  },
  {
   "cell_type": "code",
   "execution_count": 13,
   "metadata": {},
   "outputs": [
    {
     "data": {
      "text/plain": [
       "1216217"
      ]
     },
     "execution_count": 13,
     "metadata": {},
     "output_type": "execute_result"
    }
   ],
   "source": [
    "sum([556, 593, 1233, 3074, 4708, 689398, 24, 10971, 4258, 492475, 2502, 6425])"
   ]
  },
  {
   "cell_type": "code",
   "execution_count": null,
   "metadata": {
    "collapsed": true
   },
   "outputs": [],
   "source": [
    "[0.0, 0.0, 596, 268, 520, 81307, 0.0, 0.0, 0.0, 0.0, 310, 0.0, 79]\n",
    "[0.0, 0.0, 678, 189, 268, 111389, 0.0, 0.0, 0.0, 0.0, 158, 0.0, 50]"
   ]
  }
 ],
 "metadata": {
  "kernelspec": {
   "display_name": "Python 3",
   "language": "python",
   "name": "python3"
  },
  "language_info": {
   "codemirror_mode": {
    "name": "ipython",
    "version": 3
   },
   "file_extension": ".py",
   "mimetype": "text/x-python",
   "name": "python",
   "nbconvert_exporter": "python",
   "pygments_lexer": "ipython3",
   "version": "3.6.1"
  }
 },
 "nbformat": 4,
 "nbformat_minor": 2
}
